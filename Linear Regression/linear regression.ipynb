{
 "cells": [
  {
   "cell_type": "markdown",
   "id": "f9a7966a",
   "metadata": {
    "papermill": {
     "duration": 0.006914,
     "end_time": "2023-11-05T08:26:51.174165",
     "exception": false,
     "start_time": "2023-11-05T08:26:51.167251",
     "status": "completed"
    },
    "tags": []
   },
   "source": [
    "\n",
    "# Lab 6: Linear Regression"
   ]
  },
  {
   "cell_type": "code",
   "execution_count": 8,
   "id": "0daa60f0",
   "metadata": {
    "execution": {
     "iopub.execute_input": "2023-11-05T08:26:51.189490Z",
     "iopub.status.busy": "2023-11-05T08:26:51.189032Z",
     "iopub.status.idle": "2023-11-05T08:26:53.844735Z",
     "shell.execute_reply": "2023-11-05T08:26:53.843497Z"
    },
    "papermill": {
     "duration": 2.667002,
     "end_time": "2023-11-05T08:26:53.847999",
     "exception": false,
     "start_time": "2023-11-05T08:26:51.180997",
     "status": "completed"
    },
    "tags": []
   },
   "outputs": [],
   "source": [
    "import pandas as pd\n",
    "import numpy as np\n",
    "import seaborn as sns\n",
    "import warnings\n",
    "from sklearn.linear_model import LinearRegression\n",
    "from sklearn.metrics import r2_score"
   ]
  },
  {
   "cell_type": "markdown",
   "id": "4ac1d99d",
   "metadata": {
    "papermill": {
     "duration": 0.006527,
     "end_time": "2023-11-05T08:26:53.861462",
     "exception": false,
     "start_time": "2023-11-05T08:26:53.854935",
     "status": "completed"
    },
    "tags": []
   },
   "source": [
    "## Importing the dataset"
   ]
  },
  {
   "cell_type": "code",
   "execution_count": 10,
   "id": "c8cc80ac",
   "metadata": {
    "execution": {
     "iopub.execute_input": "2023-11-05T08:26:53.877370Z",
     "iopub.status.busy": "2023-11-05T08:26:53.876778Z",
     "iopub.status.idle": "2023-11-05T08:26:53.910604Z",
     "shell.execute_reply": "2023-11-05T08:26:53.909623Z"
    },
    "papermill": {
     "duration": 0.045043,
     "end_time": "2023-11-05T08:26:53.913658",
     "exception": false,
     "start_time": "2023-11-05T08:26:53.868615",
     "status": "completed"
    },
    "tags": []
   },
   "outputs": [],
   "source": [
    "train_df = pd.read_csv('trrain.csv')\n",
    "test_df = pd.read_csv('test.csv')"
   ]
  },
  {
   "cell_type": "code",
   "execution_count": 11,
   "id": "9cf2d55e",
   "metadata": {
    "execution": {
     "iopub.execute_input": "2023-11-05T08:26:53.930657Z",
     "iopub.status.busy": "2023-11-05T08:26:53.929895Z",
     "iopub.status.idle": "2023-11-05T08:26:53.964269Z",
     "shell.execute_reply": "2023-11-05T08:26:53.963047Z"
    },
    "papermill": {
     "duration": 0.047084,
     "end_time": "2023-11-05T08:26:53.967910",
     "exception": false,
     "start_time": "2023-11-05T08:26:53.920826",
     "status": "completed"
    },
    "tags": []
   },
   "outputs": [
    {
     "name": "stdout",
     "output_type": "stream",
     "text": [
      "<class 'pandas.core.frame.DataFrame'>\n",
      "RangeIndex: 700 entries, 0 to 699\n",
      "Data columns (total 2 columns):\n",
      " #   Column  Non-Null Count  Dtype  \n",
      "---  ------  --------------  -----  \n",
      " 0   x       700 non-null    float64\n",
      " 1   y       699 non-null    float64\n",
      "dtypes: float64(2)\n",
      "memory usage: 11.1 KB\n"
     ]
    }
   ],
   "source": [
    "train_df.info()"
   ]
  },
  {
   "cell_type": "code",
   "execution_count": 12,
   "id": "1e62694f",
   "metadata": {
    "execution": {
     "iopub.execute_input": "2023-11-05T08:26:53.983696Z",
     "iopub.status.busy": "2023-11-05T08:26:53.983292Z",
     "iopub.status.idle": "2023-11-05T08:26:53.998638Z",
     "shell.execute_reply": "2023-11-05T08:26:53.996721Z"
    },
    "papermill": {
     "duration": 0.027089,
     "end_time": "2023-11-05T08:26:54.001953",
     "exception": false,
     "start_time": "2023-11-05T08:26:53.974864",
     "status": "completed"
    },
    "tags": []
   },
   "outputs": [
    {
     "name": "stdout",
     "output_type": "stream",
     "text": [
      "<class 'pandas.core.frame.DataFrame'>\n",
      "RangeIndex: 300 entries, 0 to 299\n",
      "Data columns (total 2 columns):\n",
      " #   Column  Non-Null Count  Dtype  \n",
      "---  ------  --------------  -----  \n",
      " 0   x       300 non-null    int64  \n",
      " 1   y       300 non-null    float64\n",
      "dtypes: float64(1), int64(1)\n",
      "memory usage: 4.8 KB\n"
     ]
    }
   ],
   "source": [
    "test_df.info()"
   ]
  },
  {
   "cell_type": "markdown",
   "id": "cf93f925",
   "metadata": {
    "papermill": {
     "duration": 0.006683,
     "end_time": "2023-11-05T08:26:54.018434",
     "exception": false,
     "start_time": "2023-11-05T08:26:54.011751",
     "status": "completed"
    },
    "tags": []
   },
   "source": [
    "## Taking care of missing data"
   ]
  },
  {
   "cell_type": "code",
   "execution_count": 13,
   "id": "fb8dcd59",
   "metadata": {
    "execution": {
     "iopub.execute_input": "2023-11-05T08:26:54.036164Z",
     "iopub.status.busy": "2023-11-05T08:26:54.035736Z",
     "iopub.status.idle": "2023-11-05T08:26:54.060695Z",
     "shell.execute_reply": "2023-11-05T08:26:54.059804Z"
    },
    "papermill": {
     "duration": 0.038407,
     "end_time": "2023-11-05T08:26:54.063888",
     "exception": false,
     "start_time": "2023-11-05T08:26:54.025481",
     "status": "completed"
    },
    "tags": []
   },
   "outputs": [
    {
     "data": {
      "text/html": [
       "<div>\n",
       "<style scoped>\n",
       "    .dataframe tbody tr th:only-of-type {\n",
       "        vertical-align: middle;\n",
       "    }\n",
       "\n",
       "    .dataframe tbody tr th {\n",
       "        vertical-align: top;\n",
       "    }\n",
       "\n",
       "    .dataframe thead th {\n",
       "        text-align: right;\n",
       "    }\n",
       "</style>\n",
       "<table border=\"1\" class=\"dataframe\">\n",
       "  <thead>\n",
       "    <tr style=\"text-align: right;\">\n",
       "      <th></th>\n",
       "      <th>x</th>\n",
       "      <th>y</th>\n",
       "    </tr>\n",
       "  </thead>\n",
       "  <tbody>\n",
       "    <tr>\n",
       "      <th>0</th>\n",
       "      <td>24.0</td>\n",
       "      <td>21.549452</td>\n",
       "    </tr>\n",
       "    <tr>\n",
       "      <th>1</th>\n",
       "      <td>50.0</td>\n",
       "      <td>47.464463</td>\n",
       "    </tr>\n",
       "    <tr>\n",
       "      <th>2</th>\n",
       "      <td>15.0</td>\n",
       "      <td>17.218656</td>\n",
       "    </tr>\n",
       "    <tr>\n",
       "      <th>3</th>\n",
       "      <td>38.0</td>\n",
       "      <td>36.586398</td>\n",
       "    </tr>\n",
       "    <tr>\n",
       "      <th>4</th>\n",
       "      <td>87.0</td>\n",
       "      <td>87.288984</td>\n",
       "    </tr>\n",
       "    <tr>\n",
       "      <th>...</th>\n",
       "      <td>...</td>\n",
       "      <td>...</td>\n",
       "    </tr>\n",
       "    <tr>\n",
       "      <th>695</th>\n",
       "      <td>58.0</td>\n",
       "      <td>58.595006</td>\n",
       "    </tr>\n",
       "    <tr>\n",
       "      <th>696</th>\n",
       "      <td>93.0</td>\n",
       "      <td>94.625094</td>\n",
       "    </tr>\n",
       "    <tr>\n",
       "      <th>697</th>\n",
       "      <td>82.0</td>\n",
       "      <td>88.603770</td>\n",
       "    </tr>\n",
       "    <tr>\n",
       "      <th>698</th>\n",
       "      <td>66.0</td>\n",
       "      <td>63.648685</td>\n",
       "    </tr>\n",
       "    <tr>\n",
       "      <th>699</th>\n",
       "      <td>97.0</td>\n",
       "      <td>94.975266</td>\n",
       "    </tr>\n",
       "  </tbody>\n",
       "</table>\n",
       "<p>699 rows × 2 columns</p>\n",
       "</div>"
      ],
      "text/plain": [
       "        x          y\n",
       "0    24.0  21.549452\n",
       "1    50.0  47.464463\n",
       "2    15.0  17.218656\n",
       "3    38.0  36.586398\n",
       "4    87.0  87.288984\n",
       "..    ...        ...\n",
       "695  58.0  58.595006\n",
       "696  93.0  94.625094\n",
       "697  82.0  88.603770\n",
       "698  66.0  63.648685\n",
       "699  97.0  94.975266\n",
       "\n",
       "[699 rows x 2 columns]"
      ]
     },
     "execution_count": 13,
     "metadata": {},
     "output_type": "execute_result"
    }
   ],
   "source": [
    "train_df.dropna(inplace=True)\n",
    "train_df"
   ]
  },
  {
   "cell_type": "markdown",
   "id": "0505f083",
   "metadata": {
    "papermill": {
     "duration": 0.007228,
     "end_time": "2023-11-05T08:26:54.079262",
     "exception": false,
     "start_time": "2023-11-05T08:26:54.072034",
     "status": "completed"
    },
    "tags": []
   },
   "source": [
    "## Visualizing training data"
   ]
  },
  {
   "cell_type": "code",
   "execution_count": 14,
   "id": "a190dba7",
   "metadata": {
    "execution": {
     "iopub.execute_input": "2023-11-05T08:26:54.097042Z",
     "iopub.status.busy": "2023-11-05T08:26:54.096596Z",
     "iopub.status.idle": "2023-11-05T08:26:54.435198Z",
     "shell.execute_reply": "2023-11-05T08:26:54.433609Z"
    },
    "papermill": {
     "duration": 0.350933,
     "end_time": "2023-11-05T08:26:54.438073",
     "exception": false,
     "start_time": "2023-11-05T08:26:54.087140",
     "status": "completed"
    },
    "tags": []
   },
   "outputs": [
    {
     "data": {
      "text/plain": [
       "<AxesSubplot:xlabel='x', ylabel='y'>"
      ]
     },
     "execution_count": 14,
     "metadata": {},
     "output_type": "execute_result"
    },
    {
     "data": {
      "image/png": "[encoded data removed]",
      "text/plain": [
       "<Figure size 432x288 with 1 Axes>"
      ]
     },
     "metadata": {
      "needs_background": "light"
     },
     "output_type": "display_data"
    }
   ],
   "source": [
    "sns.scatterplot(data=train_df, x=\"x\", y=\"y\")"
   ]
  },
  {
   "cell_type": "markdown",
   "id": "11fbd1bb",
   "metadata": {
    "papermill": {
     "duration": 0.007826,
     "end_time": "2023-11-05T08:26:54.454248",
     "exception": false,
     "start_time": "2023-11-05T08:26:54.446422",
     "status": "completed"
    },
    "tags": []
   },
   "source": [
    "## Splitting rhe dataset"
   ]
  },
  {
   "cell_type": "code",
   "execution_count": 15,
   "id": "4b83d638",
   "metadata": {
    "execution": {
     "iopub.execute_input": "2023-11-05T08:26:54.472638Z",
     "iopub.status.busy": "2023-11-05T08:26:54.472195Z",
     "iopub.status.idle": "2023-11-05T08:26:54.479655Z",
     "shell.execute_reply": "2023-11-05T08:26:54.478233Z"
    },
    "papermill": {
     "duration": 0.019907,
     "end_time": "2023-11-05T08:26:54.482267",
     "exception": false,
     "start_time": "2023-11-05T08:26:54.462360",
     "status": "completed"
    },
    "tags": []
   },
   "outputs": [],
   "source": [
    "X_train = train_df.iloc[:, 0].values.reshape(-1, 1)\n",
    "Y_train = train_df.iloc[:, 1].values.reshape(-1, 1)\n",
    "\n",
    "x_test = test_df.iloc[:, 0].values.reshape(-1, 1)\n",
    "y_test = test_df.iloc[:, 1].values.reshape(-1, 1)"
   ]
  },
  {
   "cell_type": "markdown",
   "id": "5e83a8a8",
   "metadata": {
    "papermill": {
     "duration": 0.007933,
     "end_time": "2023-11-05T08:26:54.498990",
     "exception": false,
     "start_time": "2023-11-05T08:26:54.491057",
     "status": "completed"
    },
    "tags": []
   },
   "source": [
    "## Training the Simple Linear Regression model"
   ]
  },
  {
   "cell_type": "code",
   "execution_count": 16,
   "id": "a45a1003",
   "metadata": {
    "execution": {
     "iopub.execute_input": "2023-11-05T08:26:54.517589Z",
     "iopub.status.busy": "2023-11-05T08:26:54.517169Z",
     "iopub.status.idle": "2023-11-05T08:26:54.548153Z",
     "shell.execute_reply": "2023-11-05T08:26:54.547050Z"
    },
    "papermill": {
     "duration": 0.043369,
     "end_time": "2023-11-05T08:26:54.550720",
     "exception": false,
     "start_time": "2023-11-05T08:26:54.507351",
     "status": "completed"
    },
    "tags": []
   },
   "outputs": [
    {
     "data": {
      "text/plain": [
       "LinearRegression()"
      ]
     },
     "execution_count": 16,
     "metadata": {},
     "output_type": "execute_result"
    }
   ],
   "source": [
    "regressor = LinearRegression()\n",
    "regressor.fit(X_train, Y_train)"
   ]
  },
  {
   "cell_type": "markdown",
   "id": "cc5e89e0",
   "metadata": {
    "papermill": {
     "duration": 0.007942,
     "end_time": "2023-11-05T08:26:54.567241",
     "exception": false,
     "start_time": "2023-11-05T08:26:54.559299",
     "status": "completed"
    },
    "tags": []
   },
   "source": [
    "## Predicting the Test set results"
   ]
  },
  {
   "cell_type": "code",
   "execution_count": 17,
   "id": "4d7a9a85",
   "metadata": {
    "execution": {
     "iopub.execute_input": "2023-11-05T08:26:54.586470Z",
     "iopub.status.busy": "2023-11-05T08:26:54.585604Z",
     "iopub.status.idle": "2023-11-05T08:26:54.591021Z",
     "shell.execute_reply": "2023-11-05T08:26:54.590079Z"
    },
    "papermill": {
     "duration": 0.017697,
     "end_time": "2023-11-05T08:26:54.593535",
     "exception": false,
     "start_time": "2023-11-05T08:26:54.575838",
     "status": "completed"
    },
    "tags": []
   },
   "outputs": [],
   "source": [
    "y_pred = regressor.predict(x_test)"
   ]
  },
  {
   "cell_type": "markdown",
   "id": "0895655b",
   "metadata": {
    "papermill": {
     "duration": 0.008095,
     "end_time": "2023-11-05T08:26:54.610051",
     "exception": false,
     "start_time": "2023-11-05T08:26:54.601956",
     "status": "completed"
    },
    "tags": []
   },
   "source": [
    "## Testing"
   ]
  },
  {
   "cell_type": "code",
   "execution_count": 18,
   "id": "092f2d23",
   "metadata": {
    "execution": {
     "iopub.execute_input": "2023-11-05T08:26:54.629547Z",
     "iopub.status.busy": "2023-11-05T08:26:54.628743Z",
     "iopub.status.idle": "2023-11-05T08:26:54.637264Z",
     "shell.execute_reply": "2023-11-05T08:26:54.635899Z"
    },
    "papermill": {
     "duration": 0.021291,
     "end_time": "2023-11-05T08:26:54.640218",
     "exception": false,
     "start_time": "2023-11-05T08:26:54.618927",
     "status": "completed"
    },
    "tags": []
   },
   "outputs": [
    {
     "data": {
      "text/plain": [
       "0.9888014444327563"
      ]
     },
     "execution_count": 18,
     "metadata": {},
     "output_type": "execute_result"
    }
   ],
   "source": [
    "r2_score(y_test, y_pred)"
   ]
  },
  {
   "cell_type": "markdown",
   "id": "c1f147a5",
   "metadata": {
    "papermill": {
     "duration": 0.008376,
     "end_time": "2023-11-05T08:26:54.657488",
     "exception": false,
     "start_time": "2023-11-05T08:26:54.649112",
     "status": "completed"
    },
    "tags": []
   },
   "source": [
    "## Visualising the Test set results"
   ]
  },
  {
   "cell_type": "code",
   "execution_count": 19,
   "id": "eaf5f4ed",
   "metadata": {
    "execution": {
     "iopub.execute_input": "2023-11-05T08:26:54.676685Z",
     "iopub.status.busy": "2023-11-05T08:26:54.676197Z",
     "iopub.status.idle": "2023-11-05T08:26:54.695466Z",
     "shell.execute_reply": "2023-11-05T08:26:54.694071Z"
    },
    "papermill": {
     "duration": 0.032186,
     "end_time": "2023-11-05T08:26:54.698168",
     "exception": false,
     "start_time": "2023-11-05T08:26:54.665982",
     "status": "completed"
    },
    "tags": []
   },
   "outputs": [
    {
     "data": {
      "text/html": [
       "<div>\n",
       "<style scoped>\n",
       "    .dataframe tbody tr th:only-of-type {\n",
       "        vertical-align: middle;\n",
       "    }\n",
       "\n",
       "    .dataframe tbody tr th {\n",
       "        vertical-align: top;\n",
       "    }\n",
       "\n",
       "    .dataframe thead th {\n",
       "        text-align: right;\n",
       "    }\n",
       "</style>\n",
       "<table border=\"1\" class=\"dataframe\">\n",
       "  <thead>\n",
       "    <tr style=\"text-align: right;\">\n",
       "      <th></th>\n",
       "      <th>x</th>\n",
       "      <th>y</th>\n",
       "      <th>y_pred</th>\n",
       "    </tr>\n",
       "  </thead>\n",
       "  <tbody>\n",
       "    <tr>\n",
       "      <th>0</th>\n",
       "      <td>77.0</td>\n",
       "      <td>79.775152</td>\n",
       "      <td>76.943276</td>\n",
       "    </tr>\n",
       "    <tr>\n",
       "      <th>1</th>\n",
       "      <td>21.0</td>\n",
       "      <td>23.177279</td>\n",
       "      <td>20.906519</td>\n",
       "    </tr>\n",
       "    <tr>\n",
       "      <th>2</th>\n",
       "      <td>22.0</td>\n",
       "      <td>25.609262</td>\n",
       "      <td>21.907175</td>\n",
       "    </tr>\n",
       "    <tr>\n",
       "      <th>3</th>\n",
       "      <td>20.0</td>\n",
       "      <td>17.857388</td>\n",
       "      <td>19.905862</td>\n",
       "    </tr>\n",
       "    <tr>\n",
       "      <th>4</th>\n",
       "      <td>36.0</td>\n",
       "      <td>41.849864</td>\n",
       "      <td>35.916364</td>\n",
       "    </tr>\n",
       "    <tr>\n",
       "      <th>...</th>\n",
       "      <td>...</td>\n",
       "      <td>...</td>\n",
       "      <td>...</td>\n",
       "    </tr>\n",
       "    <tr>\n",
       "      <th>295</th>\n",
       "      <td>71.0</td>\n",
       "      <td>68.545888</td>\n",
       "      <td>70.939338</td>\n",
       "    </tr>\n",
       "    <tr>\n",
       "      <th>296</th>\n",
       "      <td>46.0</td>\n",
       "      <td>47.334876</td>\n",
       "      <td>45.922928</td>\n",
       "    </tr>\n",
       "    <tr>\n",
       "      <th>297</th>\n",
       "      <td>55.0</td>\n",
       "      <td>54.090637</td>\n",
       "      <td>54.928836</td>\n",
       "    </tr>\n",
       "    <tr>\n",
       "      <th>298</th>\n",
       "      <td>62.0</td>\n",
       "      <td>63.297171</td>\n",
       "      <td>61.933430</td>\n",
       "    </tr>\n",
       "    <tr>\n",
       "      <th>299</th>\n",
       "      <td>47.0</td>\n",
       "      <td>52.459467</td>\n",
       "      <td>46.923584</td>\n",
       "    </tr>\n",
       "  </tbody>\n",
       "</table>\n",
       "<p>300 rows × 3 columns</p>\n",
       "</div>"
      ],
      "text/plain": [
       "        x          y     y_pred\n",
       "0    77.0  79.775152  76.943276\n",
       "1    21.0  23.177279  20.906519\n",
       "2    22.0  25.609262  21.907175\n",
       "3    20.0  17.857388  19.905862\n",
       "4    36.0  41.849864  35.916364\n",
       "..    ...        ...        ...\n",
       "295  71.0  68.545888  70.939338\n",
       "296  46.0  47.334876  45.922928\n",
       "297  55.0  54.090637  54.928836\n",
       "298  62.0  63.297171  61.933430\n",
       "299  47.0  52.459467  46.923584\n",
       "\n",
       "[300 rows x 3 columns]"
      ]
     },
     "execution_count": 19,
     "metadata": {},
     "output_type": "execute_result"
    }
   ],
   "source": [
    "test_set_result = np.concatenate((x_test, y_test, y_pred), axis = 1)\n",
    "test_set_result_df = pd.DataFrame(test_set_result, columns = ['x','y','y_pred'])\n",
    "test_set_result_df"
   ]
  },
  {
   "cell_type": "code",
   "execution_count": 20,
   "id": "0203e3e3",
   "metadata": {
    "execution": {
     "iopub.execute_input": "2023-11-05T08:26:54.719044Z",
     "iopub.status.busy": "2023-11-05T08:26:54.717808Z",
     "iopub.status.idle": "2023-11-05T08:26:58.031687Z",
     "shell.execute_reply": "2023-11-05T08:26:58.030526Z"
    },
    "papermill": {
     "duration": 3.327312,
     "end_time": "2023-11-05T08:26:58.034349",
     "exception": false,
     "start_time": "2023-11-05T08:26:54.707037",
     "status": "completed"
    },
    "tags": []
   },
   "outputs": [
    {
     "data": {
      "text/plain": [
       "<seaborn.axisgrid.FacetGrid at 0x27b9853f2e0>"
      ]
     },
     "execution_count": 20,
     "metadata": {},
     "output_type": "execute_result"
    },
    {
     "data": {
      "image/png": "[encoded data removed]",
      "text/plain": [
       "<Figure size 360x360 with 1 Axes>"
      ]
     },
     "metadata": {
      "needs_background": "light"
     },
     "output_type": "display_data"
    }
   ],
   "source": [
    "warnings.filterwarnings('ignore')\n",
    "\n",
    "ax = sns.relplot(kind='scatter', x='x', y='y', data=test_set_result_df)\n",
    "ax.map_dataframe(sns.lineplot, 'x', 'y_pred', color='r')"
   ]
  }
 ],
 "metadata": {
  "kernelspec": {
   "display_name": "Python 3 (ipykernel)",
   "language": "python",
   "name": "python3"
  },
  "language_info": {
   "codemirror_mode": {
    "name": "ipython",
    "version": 3
   },
   "file_extension": ".py",
   "mimetype": "text/x-python",
   "name": "python",
   "nbconvert_exporter": "python",
   "pygments_lexer": "ipython3",
   "version": "3.10.1"
  },
  "papermill": {
   "default_parameters": {},
   "duration": 11.346671,
   "end_time": "2023-11-05T08:26:58.668751",
   "environment_variables": {},
   "exception": null,
   "input_path": "__notebook__.ipynb",
   "output_path": "__notebook__.ipynb",
   "parameters": {},
   "start_time": "2023-11-05T08:26:47.322080",
   "version": "2.4.0"
  }
 },
 "nbformat": 4,
 "nbformat_minor": 5
}
