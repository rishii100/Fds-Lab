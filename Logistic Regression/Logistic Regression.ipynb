{
 "cells": [
  {
   "cell_type": "markdown",
   "id": "da16d656",
   "metadata": {
    "_cell_guid": "b1076dfc-b9ad-4769-8c92-a6c4dae69d19",
    "_uuid": "8f2839f25d086af736a60e9eeb907d3b93b6e0e5",
    "execution": {
     "iopub.execute_input": "2023-04-26T12:28:03.063192Z",
     "iopub.status.busy": "2023-04-26T12:28:03.062727Z",
     "iopub.status.idle": "2023-04-26T12:28:03.123183Z",
     "shell.execute_reply": "2023-04-26T12:28:03.121818Z"
    },
    "papermill": {
     "duration": 0.069291,
     "end_time": "2023-04-26T12:28:03.126274",
     "exception": false,
     "start_time": "2023-04-26T12:28:03.056983",
     "status": "completed"
    },
    "tags": []
   },
   "source": [
    "\n",
    "# Lab 7: Logistic Regression"
   ]
  },
  {
   "cell_type": "code",
   "execution_count": 8,
   "id": "274adfe9",
   "metadata": {},
   "outputs": [
    {
     "data": {
      "text/html": [
       "<div>\n",
       "<style scoped>\n",
       "    .dataframe tbody tr th:only-of-type {\n",
       "        vertical-align: middle;\n",
       "    }\n",
       "\n",
       "    .dataframe tbody tr th {\n",
       "        vertical-align: top;\n",
       "    }\n",
       "\n",
       "    .dataframe thead th {\n",
       "        text-align: right;\n",
       "    }\n",
       "</style>\n",
       "<table border=\"1\" class=\"dataframe\">\n",
       "  <thead>\n",
       "    <tr style=\"text-align: right;\">\n",
       "      <th></th>\n",
       "      <th>User ID</th>\n",
       "      <th>Gender</th>\n",
       "      <th>Age</th>\n",
       "      <th>EstimatedSalary</th>\n",
       "      <th>Purchased</th>\n",
       "    </tr>\n",
       "  </thead>\n",
       "  <tbody>\n",
       "    <tr>\n",
       "      <th>0</th>\n",
       "      <td>15624510</td>\n",
       "      <td>Male</td>\n",
       "      <td>19</td>\n",
       "      <td>19000</td>\n",
       "      <td>0</td>\n",
       "    </tr>\n",
       "    <tr>\n",
       "      <th>1</th>\n",
       "      <td>15810944</td>\n",
       "      <td>Male</td>\n",
       "      <td>35</td>\n",
       "      <td>20000</td>\n",
       "      <td>0</td>\n",
       "    </tr>\n",
       "    <tr>\n",
       "      <th>2</th>\n",
       "      <td>15668575</td>\n",
       "      <td>Female</td>\n",
       "      <td>26</td>\n",
       "      <td>43000</td>\n",
       "      <td>0</td>\n",
       "    </tr>\n",
       "    <tr>\n",
       "      <th>3</th>\n",
       "      <td>15603246</td>\n",
       "      <td>Female</td>\n",
       "      <td>27</td>\n",
       "      <td>57000</td>\n",
       "      <td>0</td>\n",
       "    </tr>\n",
       "    <tr>\n",
       "      <th>4</th>\n",
       "      <td>15804002</td>\n",
       "      <td>Male</td>\n",
       "      <td>19</td>\n",
       "      <td>76000</td>\n",
       "      <td>0</td>\n",
       "    </tr>\n",
       "    <tr>\n",
       "      <th>...</th>\n",
       "      <td>...</td>\n",
       "      <td>...</td>\n",
       "      <td>...</td>\n",
       "      <td>...</td>\n",
       "      <td>...</td>\n",
       "    </tr>\n",
       "    <tr>\n",
       "      <th>395</th>\n",
       "      <td>15691863</td>\n",
       "      <td>Female</td>\n",
       "      <td>46</td>\n",
       "      <td>41000</td>\n",
       "      <td>1</td>\n",
       "    </tr>\n",
       "    <tr>\n",
       "      <th>396</th>\n",
       "      <td>15706071</td>\n",
       "      <td>Male</td>\n",
       "      <td>51</td>\n",
       "      <td>23000</td>\n",
       "      <td>1</td>\n",
       "    </tr>\n",
       "    <tr>\n",
       "      <th>397</th>\n",
       "      <td>15654296</td>\n",
       "      <td>Female</td>\n",
       "      <td>50</td>\n",
       "      <td>20000</td>\n",
       "      <td>1</td>\n",
       "    </tr>\n",
       "    <tr>\n",
       "      <th>398</th>\n",
       "      <td>15755018</td>\n",
       "      <td>Male</td>\n",
       "      <td>36</td>\n",
       "      <td>33000</td>\n",
       "      <td>0</td>\n",
       "    </tr>\n",
       "    <tr>\n",
       "      <th>399</th>\n",
       "      <td>15594041</td>\n",
       "      <td>Female</td>\n",
       "      <td>49</td>\n",
       "      <td>36000</td>\n",
       "      <td>1</td>\n",
       "    </tr>\n",
       "  </tbody>\n",
       "</table>\n",
       "<p>400 rows × 5 columns</p>\n",
       "</div>"
      ],
      "text/plain": [
       "      User ID  Gender  Age  EstimatedSalary  Purchased\n",
       "0    15624510    Male   19            19000          0\n",
       "1    15810944    Male   35            20000          0\n",
       "2    15668575  Female   26            43000          0\n",
       "3    15603246  Female   27            57000          0\n",
       "4    15804002    Male   19            76000          0\n",
       "..        ...     ...  ...              ...        ...\n",
       "395  15691863  Female   46            41000          1\n",
       "396  15706071    Male   51            23000          1\n",
       "397  15654296  Female   50            20000          1\n",
       "398  15755018    Male   36            33000          0\n",
       "399  15594041  Female   49            36000          1\n",
       "\n",
       "[400 rows x 5 columns]"
      ]
     },
     "execution_count": 8,
     "metadata": {},
     "output_type": "execute_result"
    }
   ],
   "source": [
    "import pandas as pd\n",
    "from matplotlib import pyplot as plt\n",
    "%matplotlib inline\n",
    "\n",
    "df = pd.read_csv('Social_Network_Ads.csv')\n",
    "df"
   ]
  },
  {
   "cell_type": "code",
   "execution_count": 9,
   "id": "e406ab42",
   "metadata": {
    "execution": {
     "iopub.execute_input": "2023-04-26T12:28:03.171199Z",
     "iopub.status.busy": "2023-04-26T12:28:03.169893Z",
     "iopub.status.idle": "2023-04-26T12:28:04.377775Z",
     "shell.execute_reply": "2023-04-26T12:28:04.376232Z"
    },
    "papermill": {
     "duration": 1.217083,
     "end_time": "2023-04-26T12:28:04.381945",
     "exception": false,
     "start_time": "2023-04-26T12:28:03.164862",
     "status": "completed"
    },
    "tags": []
   },
   "outputs": [
    {
     "data": {
      "text/plain": [
       "(     Age\n",
       " 191   19\n",
       " 278   52\n",
       " 272   60\n",
       " 128   30\n",
       " 285   37\n",
       " ..   ...\n",
       " 368   38\n",
       " 48    30\n",
       " 260   35\n",
       " 312   38\n",
       " 207   52\n",
       " \n",
       " [320 rows x 1 columns],\n",
       "      Age\n",
       " 106   26\n",
       " 9     35\n",
       " 61    25\n",
       " 224   35\n",
       " 37    30\n",
       " ..   ...\n",
       " 45    23\n",
       " 359   42\n",
       " 351   37\n",
       " 186   20\n",
       " 362   47\n",
       " \n",
       " [80 rows x 1 columns],\n",
       " 191    0\n",
       " 278    1\n",
       " 272    1\n",
       " 128    0\n",
       " 285    1\n",
       "       ..\n",
       " 368    0\n",
       " 48     1\n",
       " 260    0\n",
       " 312    0\n",
       " 207    0\n",
       " Name: Purchased, Length: 320, dtype: int64,\n",
       " 106    0\n",
       " 9      0\n",
       " 61     0\n",
       " 224    0\n",
       " 37     0\n",
       "       ..\n",
       " 45     0\n",
       " 359    0\n",
       " 351    0\n",
       " 186    0\n",
       " 362    1\n",
       " Name: Purchased, Length: 80, dtype: int64)"
      ]
     },
     "execution_count": 9,
     "metadata": {},
     "output_type": "execute_result"
    }
   ],
   "source": [
    "#divide the dataset into train and test data\n",
    "from sklearn.model_selection import train_test_split\n",
    "x_train, x_test, y_train, y_test = train_test_split(df[['Age']], df.Purchased, test_size=0.2, random_state=21)\n",
    "x_train, x_test, y_train, y_test"
   ]
  },
  {
   "cell_type": "code",
   "execution_count": 10,
   "id": "c58064c3",
   "metadata": {
    "execution": {
     "iopub.execute_input": "2023-04-26T12:28:04.391886Z",
     "iopub.status.busy": "2023-04-26T12:28:04.391429Z",
     "iopub.status.idle": "2023-04-26T12:28:04.509673Z",
     "shell.execute_reply": "2023-04-26T12:28:04.508185Z"
    },
    "papermill": {
     "duration": 0.126732,
     "end_time": "2023-04-26T12:28:04.512782",
     "exception": false,
     "start_time": "2023-04-26T12:28:04.386050",
     "status": "completed"
    },
    "tags": []
   },
   "outputs": [
    {
     "data": {
      "text/plain": [
       "LogisticRegression()"
      ]
     },
     "execution_count": 10,
     "metadata": {},
     "output_type": "execute_result"
    }
   ],
   "source": [
    "from sklearn.linear_model import LogisticRegression\n",
    "\n",
    "#call regression function\n",
    "model = LogisticRegression()\n",
    "#fit the model according to train data\n",
    "model.fit(x_train, y_train)"
   ]
  },
  {
   "cell_type": "code",
   "execution_count": 11,
   "id": "522ac34e",
   "metadata": {
    "execution": {
     "iopub.execute_input": "2023-04-26T12:28:04.522101Z",
     "iopub.status.busy": "2023-04-26T12:28:04.521628Z",
     "iopub.status.idle": "2023-04-26T12:28:04.539110Z",
     "shell.execute_reply": "2023-04-26T12:28:04.537539Z"
    },
    "papermill": {
     "duration": 0.025601,
     "end_time": "2023-04-26T12:28:04.542151",
     "exception": false,
     "start_time": "2023-04-26T12:28:04.516550",
     "status": "completed"
    },
    "tags": []
   },
   "outputs": [
    {
     "name": "stderr",
     "output_type": "stream",
     "text": [
      "C:\\Users\\VICTUS i5\\AppData\\Local\\Programs\\Python\\Python310\\lib\\site-packages\\sklearn\\base.py:450: UserWarning: X does not have valid feature names, but LogisticRegression was fitted with feature names\n",
      "  warnings.warn(\n"
     ]
    },
    {
     "data": {
      "text/plain": [
       "array([0], dtype=int64)"
      ]
     },
     "execution_count": 11,
     "metadata": {},
     "output_type": "execute_result"
    }
   ],
   "source": [
    "#score the model by test data\n",
    "model.score(x_test,y_test)\n",
    "predictions = model.predict(x_test)\n",
    "model.predict([[23]])"
   ]
  },
  {
   "cell_type": "code",
   "execution_count": 12,
   "id": "f417662c",
   "metadata": {
    "execution": {
     "iopub.execute_input": "2023-04-26T12:28:04.553600Z",
     "iopub.status.busy": "2023-04-26T12:28:04.553163Z",
     "iopub.status.idle": "2023-04-26T12:28:04.566834Z",
     "shell.execute_reply": "2023-04-26T12:28:04.564553Z"
    },
    "papermill": {
     "duration": 0.02362,
     "end_time": "2023-04-26T12:28:04.569942",
     "exception": false,
     "start_time": "2023-04-26T12:28:04.546322",
     "status": "completed"
    },
    "tags": []
   },
   "outputs": [
    {
     "name": "stdout",
     "output_type": "stream",
     "text": [
      "              precision    recall  f1-score   support\n",
      "\n",
      "           0       0.90      0.95      0.92        56\n",
      "           1       0.86      0.75      0.80        24\n",
      "\n",
      "    accuracy                           0.89        80\n",
      "   macro avg       0.88      0.85      0.86        80\n",
      "weighted avg       0.89      0.89      0.89        80\n",
      "\n"
     ]
    }
   ],
   "source": [
    "#evaluate the model\n",
    "from sklearn.metrics import classification_report,confusion_matrix\n",
    "print(classification_report(y_test,predictions))"
   ]
  }
 ],
 "metadata": {
  "kernelspec": {
   "display_name": "Python 3 (ipykernel)",
   "language": "python",
   "name": "python3"
  },
  "language_info": {
   "codemirror_mode": {
    "name": "ipython",
    "version": 3
   },
   "file_extension": ".py",
   "mimetype": "text/x-python",
   "name": "python",
   "nbconvert_exporter": "python",
   "pygments_lexer": "ipython3",
   "version": "3.10.1"
  },
  "papermill": {
   "default_parameters": {},
   "duration": 13.760028,
   "end_time": "2023-04-26T12:28:05.409899",
   "environment_variables": {},
   "exception": null,
   "input_path": "__notebook__.ipynb",
   "output_path": "__notebook__.ipynb",
   "parameters": {},
   "start_time": "2023-04-26T12:27:51.649871",
   "version": "2.4.0"
  }
 },
 "nbformat": 4,
 "nbformat_minor": 5
}
